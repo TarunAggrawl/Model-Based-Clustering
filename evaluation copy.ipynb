{
 "metadata": {
  "language_info": {
   "codemirror_mode": {
    "name": "ipython",
    "version": 3
   },
   "file_extension": ".py",
   "mimetype": "text/x-python",
   "name": "python",
   "nbconvert_exporter": "python",
   "pygments_lexer": "ipython3",
   "version": "3.8.3-final"
  },
  "orig_nbformat": 2,
  "kernelspec": {
   "name": "python3",
   "display_name": "Python 3",
   "language": "python"
  }
 },
 "nbformat": 4,
 "nbformat_minor": 2,
 "cells": [
  {
   "cell_type": "code",
   "execution_count": 1,
   "metadata": {},
   "outputs": [],
   "source": [
    "import json"
   ]
  },
  {
   "cell_type": "code",
   "execution_count": 2,
   "metadata": {},
   "outputs": [],
   "source": [
    "dataDir=\"data/\"\n",
    "dataset=\"Tweets\"\n",
    "true_c=[None]*30350\n",
    "#true_c"
   ]
  },
  {
   "cell_type": "code",
   "execution_count": 3,
   "metadata": {},
   "outputs": [],
   "source": [
    "with open(dataDir + dataset) as input:\n",
    "        line = input.readline()\n",
    "        k=0\n",
    "        while line:\n",
    "            k=k+1\n",
    "            obj = json.loads(line)\n",
    "            true_c[int(obj['Id'])]=int(obj['clusterNo'])\n",
    "            line = input.readline()\n",
    "            if (\"\" == line):break;"
   ]
  },
  {
   "cell_type": "code",
   "execution_count": 4,
   "metadata": {},
   "outputs": [],
   "source": [
    "resultDir = \"result/\"\n",
    "# data_result=\"Tweets_change_ICF_CWW_ALPHA0.002_BETA0.0004_LAMDA6e-06.txt\"\n",
    "data_result = 'cluster_bench_w2v5.json'\n"
   ]
  },
  {
   "cell_type": "code",
   "execution_count": 5,
   "metadata": {
    "tags": []
   },
   "outputs": [],
   "source": [
    "from sklearn import metrics\n",
    "from statistics import mean\n",
    "list_true=[]\n",
    "list_pred=[]\n",
    "with open(resultDir+data_result) as input:\n",
    "    lines=input.readlines()\n",
    "    # print(lines)\n",
    "    for line in lines:\n",
    "        line=line.strip().split()\n",
    "        list_pred.append(int(line[1]))\n",
    "        list_true.append(true_c[int(line[0])])\n",
    "nmi_score = metrics.normalized_mutual_info_score(list_true,list_pred)\n",
    "completeness_score=metrics.completeness_score(list_true,list_pred)\n",
    "    # #print (\"completeness_score-whole-data:   %0.8f\" % score)\n",
    "    # g_complete_score_M[k-1]=score\n",
    "homogeneity_score = metrics.homogeneity_score(list_true,list_pred)          \n",
    "v_measure = metrics.v_measure_score(list_true,list_pred)"
   ]
  },
  {
   "cell_type": "code",
   "execution_count": 6,
   "metadata": {},
   "outputs": [
    {
     "output_type": "execute_result",
     "data": {
      "text/plain": [
       "0.7478358439026218"
      ]
     },
     "metadata": {},
     "execution_count": 6
    }
   ],
   "source": [
    "completeness_score"
   ]
  },
  {
   "cell_type": "code",
   "execution_count": 7,
   "metadata": {},
   "outputs": [
    {
     "output_type": "execute_result",
     "data": {
      "text/plain": [
       "0.9343899657221078"
      ]
     },
     "metadata": {},
     "execution_count": 7
    }
   ],
   "source": [
    "homogeneity_score"
   ]
  },
  {
   "cell_type": "code",
   "execution_count": 8,
   "metadata": {},
   "outputs": [
    {
     "output_type": "execute_result",
     "data": {
      "text/plain": [
       "0.8307687405007961"
      ]
     },
     "metadata": {},
     "execution_count": 8
    }
   ],
   "source": [
    "nmi_score"
   ]
  },
  {
   "cell_type": "code",
   "execution_count": 9,
   "metadata": {},
   "outputs": [
    {
     "output_type": "execute_result",
     "data": {
      "text/plain": [
       "0.8307687405007961"
      ]
     },
     "metadata": {},
     "execution_count": 9
    }
   ],
   "source": [
    "nmi_score"
   ]
  },
  {
   "cell_type": "code",
   "execution_count": 10,
   "metadata": {},
   "outputs": [
    {
     "output_type": "execute_result",
     "data": {
      "text/plain": [
       "0.8307687405007961"
      ]
     },
     "metadata": {},
     "execution_count": 10
    }
   ],
   "source": [
    "v_measure"
   ]
  },
  {
   "cell_type": "code",
   "execution_count": null,
   "metadata": {},
   "outputs": [],
   "source": []
  }
 ]
}